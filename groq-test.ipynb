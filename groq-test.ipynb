{
 "cells": [
  {
   "cell_type": "code",
   "execution_count": null,
   "metadata": {},
   "outputs": [],
   "source": [
    "%pip install groq, chainlit, python-dotenv"
   ]
  },
  {
   "cell_type": "code",
   "execution_count": 1,
   "metadata": {},
   "outputs": [
    {
     "name": "stdout",
     "output_type": "stream",
     "text": [
      "Low latency Large Language Models (LLMs) are important in certain applications due to their ability to process and respond to inputs quickly. Latency refers to the time delay between a user's request and the system's response. In some real-time or time-sensitive applications, low latency is crucial for providing a good user experience and ensuring that the system can respond to changing conditions in a timely manner.\n",
      "\n",
      "For example, in conversational agents or chatbots, low latency is important for maintaining the illusion of a real-time conversation. If there is a significant delay between the user's input and the agent's response, it can disrupt the flow of the conversation and make it feel less natural. Similarly, in applications such as online gaming or financial trading, low latency is critical for enabling users to make decisions and take actions quickly based on real-time data.\n",
      "\n",
      "Moreover, low latency LLMs can help reduce the computational cost of running large language models. By reducing the amount of time that the model spends processing each input, it is possible to serve more requests within a given amount of time, or to use fewer resources to serve the same number of requests. This can make large language models more practical and cost-effective to deploy in real-world applications.\n",
      "\n",
      "Overall, low latency LLMs are important for enabling real-time or time-sensitive applications to provide a good user experience, make decisions quickly, and reduce computational cost.\n"
     ]
    }
   ],
   "source": [
    "# testing groq with mistral\n",
    "\n",
    "import os\n",
    "from groq import Groq\n",
    "from dotenv import load_dotenv\n",
    "load_dotenv()\n",
    "\n",
    "groq_api_key = os.getenv(\"GROQ_API_KEY\")\n",
    "\n",
    "client = Groq(\n",
    "    api_key=groq_api_key,\n",
    ")\n",
    "\n",
    "chat_completion = client.chat.completions.create(\n",
    "    messages=[\n",
    "        {\n",
    "            \"role\": \"user\",\n",
    "            \"content\": \"Explain the importance of low latency LLMs\",\n",
    "        }\n",
    "    ],\n",
    "    model=\"mixtral-8x7b-32768\",\n",
    ")\n",
    "\n",
    "print(chat_completion.choices[0].message.content)"
   ]
  },
  {
   "cell_type": "code",
   "execution_count": 3,
   "metadata": {},
   "outputs": [
    {
     "name": "stdout",
     "output_type": "stream",
     "text": [
      "Prompt injections are a type of attack where an attacker injects malicious code into a program's input prompt, allowing them to execute arbitrary commands on the user's system. Here are some ways to prevent prompt injections:\n",
      "\n",
      "1. Use a secure prompt mechanism: Use a secure prompt mechanism, such as a GUI-based prompt or a secure command-line prompt, to prevent attackers from injecting malicious code into the prompt.\n",
      "2. Validate user input: Validate user input to ensure that it does not contain malicious code. Use techniques such as input filtering, input validation, and output encoding to prevent malicious input from being executed.\n",
      "3. Use a whitelist: Use a whitelist of allowed commands or inputs to prevent malicious commands from being executed.\n",
      "4. Use a sandbox: Run the program in a sandbox environment, which restricts the program's access to system resources and prevents it from executing malicious commands.\n",
      "5. Use a secure coding practice: Use secure coding practices, such as using parameterized queries instead of concatenating user input into SQL queries, to prevent SQL injection attacks.\n",
      "6. Use a web application firewall: Use a web application firewall (WAF) to protect web applications from prompt injection attacks.\n",
      "7. Keep software up to date: Keep software up to date with the latest security patches and updates to prevent known vulnerabilities from being exploited.\n",
      "8. Use a secure communication protocol: Use a secure communication protocol, such as HTTPS, to protect against eavesdropping and man-in-the-middle attacks.\n",
      "9. Use a secure authentication mechanism: Use a secure authentication mechanism, such as two-factor authentication, to prevent unauthorized access to the system.\n",
      "10. Monitor for suspicious activity: Monitor for suspicious activity, such as unexpected user input or attempts to execute unauthorized commands, and respond appropriately to prevent a security breach.\n",
      "11. Use a security information and event management (SIEM) system: Use a SIEM system to monitor for security-related events and respond to security incidents in real-time.\n",
      "12. Use a vulnerability scanner: Use a vulnerability scanner to identify and remediate vulnerabilities in the system that could be exploited by attackers.\n",
      "13. Use a penetration testing tool: Use a penetration testing tool to simulate attacks on the system and identify vulnerabilities that could be exploited by attackers.\n",
      "14. Use a security orchestration, automation, and response (SOAR) tool: Use a SOAR tool to automate security incident response and remediation.\n",
      "15. Educate users: Educate users on the dangers of prompt injections and how to prevent them.\n",
      "\n",
      "It's important to note that prompt injections can be prevented by implementing a combination of these measures, rather than relying on a single solution.\n"
     ]
    }
   ],
   "source": [
    "# testing groq with llama2\n",
    "import os\n",
    "from groq import Groq\n",
    "from dotenv import load_dotenv\n",
    "load_dotenv()\n",
    "\n",
    "groq_api_key = os.getenv(\"GROQ_API_KEY\")\n",
    "\n",
    "client = Groq(\n",
    "    api_key=groq_api_key,\n",
    ")\n",
    "\n",
    "chat_completion = client.chat.completions.create(\n",
    "    messages=[\n",
    "        {\n",
    "            \"role\": \"user\",\n",
    "            \"content\": \"Suggest me ways to prevent prompt injections\",\n",
    "        }\n",
    "    ],\n",
    "    model=\"llama2-70b-4096\",\n",
    ")\n",
    "\n",
    "print(chat_completion.choices[0].message.content)\n"
   ]
  },
  {
   "cell_type": "code",
   "execution_count": 4,
   "metadata": {},
   "outputs": [
    {
     "name": "stdout",
     "output_type": "stream",
     "text": [
      "Albert Einstein was a German-born physicist who revolutionized the field of physics with his theories on relativity. Born in 1879, Einstein was a sickly child who struggled with learning disabilities. Despite his challenges, he went on to become one of the greatest minds in history.\n",
      "\n",
      "Einstein's most significant contributions to physics include:\n",
      "\n",
      "* **Theory of Relativity:** In 1915, Einstein presented his theory of general relativity, which describes gravity as a curvature of spacetime. This theory revolutionized our understanding of the universe and has been widely accepted as one of the most accurate theories in physics.\n",
      "* **Theory of Special Relativity:** In 1905, Einstein published his theory of special relativity, which describes the relationship between space and time. This theory showed that space and time are not absolute and that they can be warped by the presence of mass and energy.\n",
      "* **Photoelectric Effect:** Einstein's explanation of the photoelectric effect in 1905 provided evidence for the quantum nature of light. This discovery was a major breakthrough in physics and helped to pave the way for the development of quantum theory.\n",
      "\n",
      "Einstein's theories and contributions to physics have had a profound impact on our understanding of the universe. He is considered one of the greatest physicists of all time and his work continues to inspire scientists and thinkers around the world.\n"
     ]
    }
   ],
   "source": [
    "# testing groq with gemma\n",
    "\n",
    "import os\n",
    "from groq import Groq\n",
    "from dotenv import load_dotenv\n",
    "load_dotenv()\n",
    "\n",
    "groq_api_key = os.getenv(\"GROQ_API_KEY\")\n",
    "\n",
    "client = Groq(\n",
    "    api_key=groq_api_key,\n",
    ")\n",
    "\n",
    "chat_completion = client.chat.completions.create(\n",
    "    messages=[\n",
    "        {\n",
    "            \"role\": \"user\",\n",
    "            \"content\": \"Who is ALbert Einstein?\",\n",
    "        }\n",
    "    ],\n",
    "    model=\"gemma-7b-it\",\n",
    ")\n",
    "\n",
    "print(chat_completion.choices[0].message.content)"
   ]
  }
 ],
 "metadata": {
  "kernelspec": {
   "display_name": ".venv",
   "language": "python",
   "name": "python3"
  },
  "language_info": {
   "codemirror_mode": {
    "name": "ipython",
    "version": 3
   },
   "file_extension": ".py",
   "mimetype": "text/x-python",
   "name": "python",
   "nbconvert_exporter": "python",
   "pygments_lexer": "ipython3",
   "version": "3.12.1"
  }
 },
 "nbformat": 4,
 "nbformat_minor": 2
}
